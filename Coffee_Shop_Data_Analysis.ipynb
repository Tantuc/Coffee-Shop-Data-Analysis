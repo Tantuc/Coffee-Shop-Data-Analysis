{
  "nbformat": 4,
  "nbformat_minor": 0,
  "metadata": {
    "colab": {
      "provenance": [],
      "collapsed_sections": [
        "YHWF05UUwUpM",
        "r2CtE_9Ezd-D",
        "D1V4O-OV02mI"
      ],
      "authorship_tag": "ABX9TyOfuojFdyb835CYSl+/aM9W",
      "include_colab_link": true
    },
    "kernelspec": {
      "name": "python3",
      "display_name": "Python 3"
    },
    "language_info": {
      "name": "python"
    }
  },
  "cells": [
    {
      "cell_type": "markdown",
      "metadata": {
        "id": "view-in-github",
        "colab_type": "text"
      },
      "source": [
        "<a href=\"https://colab.research.google.com/github/Tantuc/Coffee-Shop-Data-Analysis/blob/master/Coffee_Shop_Data_Analysis.ipynb\" target=\"_parent\"><img src=\"https://colab.research.google.com/assets/colab-badge.svg\" alt=\"Open In Colab\"/></a>"
      ]
    },
    {
      "cell_type": "markdown",
      "source": [
        ">[Introduction](#scrollTo=YHWF05UUwUpM)\n",
        "\n",
        ">[Dataset of 10 Fictitious Coffee Shops](#scrollTo=CooAgXgBu5Oc)\n",
        "\n",
        ">[Question 1: Which coffee shop has the most and the least customers per day?](#scrollTo=r2CtE_9Ezd-D)\n",
        "\n",
        ">>[Findings for Question 1](#scrollTo=al5hmJxi5B8r)\n",
        "\n",
        ">>[Let's Go Deeper: Importance of Considering the City](#scrollTo=gf1RKvfJ-qFV)\n",
        "\n",
        ">[Question 2: Which coffee shop has the highest and lowest daily revenue?](#scrollTo=D1V4O-OV02mI)\n",
        "\n",
        ">>[Findings for Question 2](#scrollTo=KDXLdYrL0-h8)\n",
        "\n",
        ">>[Let's Go Deeper: Importance of Considering the City](#scrollTo=-Q1GnBt6_lEl)\n",
        "\n",
        "\n",
        ">[Question 3: Is there a correlation between the rating of a coffee shop and its daily revenue?](#scrollTo=yhvx3t0n5XuX)\n",
        "\n",
        ">>[Findings for Question 3](#scrollTo=5gp-EOM35luN)\n",
        "\n",
        ">>[Let's Go Deeper: Importance of Considering the City](#scrollTo=s74OC9Ik8tMJ)\n",
        "\n",
        ">[Bonus Question: Analyzing the Relationship Between Average Spend and Rating by City](#scrollTo=brlIJW5UDJWR)\n",
        "\n",
        ">[Conclusions and Future Research Directions](#scrollTo=1Zc3wWLxJTgt)\n",
        "\n",
        ">[Bonus: Business Recommendations](#scrollTo=Et_W3WYYO8w_)\n",
        "\n",
        "\n"
      ],
      "metadata": {
        "colab_type": "toc",
        "id": "dPlWdzajEOaT"
      }
    },
    {
      "cell_type": "markdown",
      "source": [
        "# Introduction\n",
        "\n",
        "This notebook presents a detailed analysis of data from ten fictitious coffee shops. These shops are spread across three cities, namely New York, Chicago, and Los Angeles. For each shop, we have information on the average daily customer count, the average spend per customer, and the overall customer rating.\n",
        "\n",
        "The purpose of this analysis is to uncover insights into the relationships between customer count, average spend, shop ratings, and the resulting daily revenue. We aim to answer the following questions:\n",
        "\n",
        "1. Which coffee shop has the most and least customers per day?\n",
        "2. Which coffee shop has the highest and lowest daily revenue?\n",
        "3. Is there a correlation between the rating of a coffee shop and its daily revenue?\n",
        "\n",
        "We will be using Python's data analysis libraries, Pandas and SciPy, to manipulate the data and perform the analysis. The findings and insights derived from this analysis will be discussed following the code and calculations.\n",
        "\n",
        "Let's dive into the data and begin our analysis!"
      ],
      "metadata": {
        "id": "YHWF05UUwUpM"
      }
    },
    {
      "cell_type": "code",
      "source": [
        "import pandas as pd"
      ],
      "metadata": {
        "id": "ECrBSx-HuCLg"
      },
      "execution_count": null,
      "outputs": []
    },
    {
      "cell_type": "code",
      "execution_count": null,
      "metadata": {
        "id": "exBUlYQYsnAE"
      },
      "outputs": [],
      "source": [
        "data = {'Shop Name': ['CoffeeAroma', 'BeansTalk', 'BrewMaster', 'MochaMagic', 'EspressoInn', 'LatteLand', 'JavaJungle', 'CappuccinoCorner', 'BlackBrew', 'CuppaCharm'],\n",
        "        'City': ['New York', 'Chicago', 'Los Angeles', 'New York', 'Chicago', 'Los Angeles', 'New York', 'Chicago', 'Los Angeles', 'New York'],\n",
        "        'Average Daily Customer Count': [400, 350, 300, 500, 450, 375, 425, 500, 350, 475],\n",
        "        'Average Spend per Customer ($)': [5, 6, 7, 4, 5, 6, 7, 4, 6, 5],\n",
        "        'Rating': [4, 4.5, 4.7, 3.9, 4.1, 4.2, 4.8, 3.8, 4.4, 4.3]}\n",
        "\n",
        "df = pd.DataFrame(data)\n",
        "\n",
        "# Adding a new column for daily revenue\n",
        "df['Daily Revenue ($)'] = df['Average Daily Customer Count'] * df['Average Spend per Customer ($)']\n"
      ]
    },
    {
      "cell_type": "code",
      "source": [
        "# Define the new order of columns\n",
        "new_order = ['Shop Name', 'City', 'Average Daily Customer Count', 'Average Spend per Customer ($)', 'Daily Revenue ($)', 'Rating']\n",
        "\n",
        "# Reorder the columns in the dataframe\n",
        "df = df[new_order]\n"
      ],
      "metadata": {
        "id": "PoY2u0cZve0q"
      },
      "execution_count": null,
      "outputs": []
    },
    {
      "cell_type": "markdown",
      "source": [
        "# Dataset of 10 Fictitious Coffee Shops\n",
        "\n",
        "The dataset below represents 10 fictitious coffee shops across different cities. Each row in the dataframe provides the average daily customer count, average spend per customer, and the overall rating of the coffee shop.\n",
        "\n",
        "Please note: The 'Rating' is on a scale of 1 to 5, with 5 being the highest, representing the average rating the coffee shop receives from customer reviews. The other columns are self-explanatory.\n"
      ],
      "metadata": {
        "id": "CooAgXgBu5Oc"
      }
    },
    {
      "cell_type": "code",
      "source": [
        "df"
      ],
      "metadata": {
        "colab": {
          "base_uri": "https://localhost:8080/",
          "height": 363
        },
        "id": "FrvrEhLhuFwu",
        "outputId": "9ba99fc1-745c-4f87-fe44-901b053aef49"
      },
      "execution_count": null,
      "outputs": [
        {
          "output_type": "execute_result",
          "data": {
            "text/plain": [
              "          Shop Name         City  Average Daily Customer Count  \\\n",
              "0       CoffeeAroma     New York                           400   \n",
              "1         BeansTalk      Chicago                           350   \n",
              "2        BrewMaster  Los Angeles                           300   \n",
              "3        MochaMagic     New York                           500   \n",
              "4       EspressoInn      Chicago                           450   \n",
              "5         LatteLand  Los Angeles                           375   \n",
              "6        JavaJungle     New York                           425   \n",
              "7  CappuccinoCorner      Chicago                           500   \n",
              "8         BlackBrew  Los Angeles                           350   \n",
              "9        CuppaCharm     New York                           475   \n",
              "\n",
              "   Average Spend per Customer ($)  Daily Revenue ($)  Rating  \n",
              "0                               5               2000     4.0  \n",
              "1                               6               2100     4.5  \n",
              "2                               7               2100     4.7  \n",
              "3                               4               2000     3.9  \n",
              "4                               5               2250     4.1  \n",
              "5                               6               2250     4.2  \n",
              "6                               7               2975     4.8  \n",
              "7                               4               2000     3.8  \n",
              "8                               6               2100     4.4  \n",
              "9                               5               2375     4.3  "
            ],
            "text/html": [
              "\n",
              "  <div id=\"df-8e19e513-f371-4056-8375-eacb2175fec1\">\n",
              "    <div class=\"colab-df-container\">\n",
              "      <div>\n",
              "<style scoped>\n",
              "    .dataframe tbody tr th:only-of-type {\n",
              "        vertical-align: middle;\n",
              "    }\n",
              "\n",
              "    .dataframe tbody tr th {\n",
              "        vertical-align: top;\n",
              "    }\n",
              "\n",
              "    .dataframe thead th {\n",
              "        text-align: right;\n",
              "    }\n",
              "</style>\n",
              "<table border=\"1\" class=\"dataframe\">\n",
              "  <thead>\n",
              "    <tr style=\"text-align: right;\">\n",
              "      <th></th>\n",
              "      <th>Shop Name</th>\n",
              "      <th>City</th>\n",
              "      <th>Average Daily Customer Count</th>\n",
              "      <th>Average Spend per Customer ($)</th>\n",
              "      <th>Daily Revenue ($)</th>\n",
              "      <th>Rating</th>\n",
              "    </tr>\n",
              "  </thead>\n",
              "  <tbody>\n",
              "    <tr>\n",
              "      <th>0</th>\n",
              "      <td>CoffeeAroma</td>\n",
              "      <td>New York</td>\n",
              "      <td>400</td>\n",
              "      <td>5</td>\n",
              "      <td>2000</td>\n",
              "      <td>4.0</td>\n",
              "    </tr>\n",
              "    <tr>\n",
              "      <th>1</th>\n",
              "      <td>BeansTalk</td>\n",
              "      <td>Chicago</td>\n",
              "      <td>350</td>\n",
              "      <td>6</td>\n",
              "      <td>2100</td>\n",
              "      <td>4.5</td>\n",
              "    </tr>\n",
              "    <tr>\n",
              "      <th>2</th>\n",
              "      <td>BrewMaster</td>\n",
              "      <td>Los Angeles</td>\n",
              "      <td>300</td>\n",
              "      <td>7</td>\n",
              "      <td>2100</td>\n",
              "      <td>4.7</td>\n",
              "    </tr>\n",
              "    <tr>\n",
              "      <th>3</th>\n",
              "      <td>MochaMagic</td>\n",
              "      <td>New York</td>\n",
              "      <td>500</td>\n",
              "      <td>4</td>\n",
              "      <td>2000</td>\n",
              "      <td>3.9</td>\n",
              "    </tr>\n",
              "    <tr>\n",
              "      <th>4</th>\n",
              "      <td>EspressoInn</td>\n",
              "      <td>Chicago</td>\n",
              "      <td>450</td>\n",
              "      <td>5</td>\n",
              "      <td>2250</td>\n",
              "      <td>4.1</td>\n",
              "    </tr>\n",
              "    <tr>\n",
              "      <th>5</th>\n",
              "      <td>LatteLand</td>\n",
              "      <td>Los Angeles</td>\n",
              "      <td>375</td>\n",
              "      <td>6</td>\n",
              "      <td>2250</td>\n",
              "      <td>4.2</td>\n",
              "    </tr>\n",
              "    <tr>\n",
              "      <th>6</th>\n",
              "      <td>JavaJungle</td>\n",
              "      <td>New York</td>\n",
              "      <td>425</td>\n",
              "      <td>7</td>\n",
              "      <td>2975</td>\n",
              "      <td>4.8</td>\n",
              "    </tr>\n",
              "    <tr>\n",
              "      <th>7</th>\n",
              "      <td>CappuccinoCorner</td>\n",
              "      <td>Chicago</td>\n",
              "      <td>500</td>\n",
              "      <td>4</td>\n",
              "      <td>2000</td>\n",
              "      <td>3.8</td>\n",
              "    </tr>\n",
              "    <tr>\n",
              "      <th>8</th>\n",
              "      <td>BlackBrew</td>\n",
              "      <td>Los Angeles</td>\n",
              "      <td>350</td>\n",
              "      <td>6</td>\n",
              "      <td>2100</td>\n",
              "      <td>4.4</td>\n",
              "    </tr>\n",
              "    <tr>\n",
              "      <th>9</th>\n",
              "      <td>CuppaCharm</td>\n",
              "      <td>New York</td>\n",
              "      <td>475</td>\n",
              "      <td>5</td>\n",
              "      <td>2375</td>\n",
              "      <td>4.3</td>\n",
              "    </tr>\n",
              "  </tbody>\n",
              "</table>\n",
              "</div>\n",
              "      <button class=\"colab-df-convert\" onclick=\"convertToInteractive('df-8e19e513-f371-4056-8375-eacb2175fec1')\"\n",
              "              title=\"Convert this dataframe to an interactive table.\"\n",
              "              style=\"display:none;\">\n",
              "        \n",
              "  <svg xmlns=\"http://www.w3.org/2000/svg\" height=\"24px\"viewBox=\"0 0 24 24\"\n",
              "       width=\"24px\">\n",
              "    <path d=\"M0 0h24v24H0V0z\" fill=\"none\"/>\n",
              "    <path d=\"M18.56 5.44l.94 2.06.94-2.06 2.06-.94-2.06-.94-.94-2.06-.94 2.06-2.06.94zm-11 1L8.5 8.5l.94-2.06 2.06-.94-2.06-.94L8.5 2.5l-.94 2.06-2.06.94zm10 10l.94 2.06.94-2.06 2.06-.94-2.06-.94-.94-2.06-.94 2.06-2.06.94z\"/><path d=\"M17.41 7.96l-1.37-1.37c-.4-.4-.92-.59-1.43-.59-.52 0-1.04.2-1.43.59L10.3 9.45l-7.72 7.72c-.78.78-.78 2.05 0 2.83L4 21.41c.39.39.9.59 1.41.59.51 0 1.02-.2 1.41-.59l7.78-7.78 2.81-2.81c.8-.78.8-2.07 0-2.86zM5.41 20L4 18.59l7.72-7.72 1.47 1.35L5.41 20z\"/>\n",
              "  </svg>\n",
              "      </button>\n",
              "      \n",
              "  <style>\n",
              "    .colab-df-container {\n",
              "      display:flex;\n",
              "      flex-wrap:wrap;\n",
              "      gap: 12px;\n",
              "    }\n",
              "\n",
              "    .colab-df-convert {\n",
              "      background-color: #E8F0FE;\n",
              "      border: none;\n",
              "      border-radius: 50%;\n",
              "      cursor: pointer;\n",
              "      display: none;\n",
              "      fill: #1967D2;\n",
              "      height: 32px;\n",
              "      padding: 0 0 0 0;\n",
              "      width: 32px;\n",
              "    }\n",
              "\n",
              "    .colab-df-convert:hover {\n",
              "      background-color: #E2EBFA;\n",
              "      box-shadow: 0px 1px 2px rgba(60, 64, 67, 0.3), 0px 1px 3px 1px rgba(60, 64, 67, 0.15);\n",
              "      fill: #174EA6;\n",
              "    }\n",
              "\n",
              "    [theme=dark] .colab-df-convert {\n",
              "      background-color: #3B4455;\n",
              "      fill: #D2E3FC;\n",
              "    }\n",
              "\n",
              "    [theme=dark] .colab-df-convert:hover {\n",
              "      background-color: #434B5C;\n",
              "      box-shadow: 0px 1px 3px 1px rgba(0, 0, 0, 0.15);\n",
              "      filter: drop-shadow(0px 1px 2px rgba(0, 0, 0, 0.3));\n",
              "      fill: #FFFFFF;\n",
              "    }\n",
              "  </style>\n",
              "\n",
              "      <script>\n",
              "        const buttonEl =\n",
              "          document.querySelector('#df-8e19e513-f371-4056-8375-eacb2175fec1 button.colab-df-convert');\n",
              "        buttonEl.style.display =\n",
              "          google.colab.kernel.accessAllowed ? 'block' : 'none';\n",
              "\n",
              "        async function convertToInteractive(key) {\n",
              "          const element = document.querySelector('#df-8e19e513-f371-4056-8375-eacb2175fec1');\n",
              "          const dataTable =\n",
              "            await google.colab.kernel.invokeFunction('convertToInteractive',\n",
              "                                                     [key], {});\n",
              "          if (!dataTable) return;\n",
              "\n",
              "          const docLinkHtml = 'Like what you see? Visit the ' +\n",
              "            '<a target=\"_blank\" href=https://colab.research.google.com/notebooks/data_table.ipynb>data table notebook</a>'\n",
              "            + ' to learn more about interactive tables.';\n",
              "          element.innerHTML = '';\n",
              "          dataTable['output_type'] = 'display_data';\n",
              "          await google.colab.output.renderOutput(dataTable, element);\n",
              "          const docLink = document.createElement('div');\n",
              "          docLink.innerHTML = docLinkHtml;\n",
              "          element.appendChild(docLink);\n",
              "        }\n",
              "      </script>\n",
              "    </div>\n",
              "  </div>\n",
              "  "
            ]
          },
          "metadata": {},
          "execution_count": 9
        }
      ]
    },
    {
      "cell_type": "markdown",
      "source": [
        "# Question 1: Which coffee shop has the most and the least customers per day?\n",
        "\n",
        "We'll begin our analysis by determining which coffee shop has the highest and lowest average daily customer count. To do this, we'll locate the maximum and minimum values in the 'Average Daily Customer Count' column of our dataset.\n"
      ],
      "metadata": {
        "id": "r2CtE_9Ezd-D"
      }
    },
    {
      "cell_type": "code",
      "source": [
        "# Find the coffee shop with the maximum average daily customer count\n",
        "max_customers = df['Average Daily Customer Count'].max()\n",
        "shop_with_max_customers = df.loc[df['Average Daily Customer Count'] == max_customers, 'Shop Name'].values\n",
        "\n",
        "# Get the number of customers for the coffee shop with the maximum average daily customer count\n",
        "max_customers_count = df.loc[df['Average Daily Customer Count'] == max_customers, 'Average Daily Customer Count'].values[0]\n",
        "\n",
        "# Find the coffee shop with the minimum average daily customer count\n",
        "min_customers = df['Average Daily Customer Count'].min()\n",
        "shop_with_min_customers = df.loc[df['Average Daily Customer Count'] == min_customers, 'Shop Name'].values\n",
        "\n",
        "# Get the number of customers for the coffee shop with the minimum average daily customer count\n",
        "min_customers_count = df.loc[df['Average Daily Customer Count'] == min_customers, 'Average Daily Customer Count'].values[0]\n",
        "\n",
        "# Print the results\n",
        "print(f\"The coffee shop(s) with the most customers per day is/are: {', '.join(shop_with_max_customers)} with {max_customers_count} customers\")\n",
        "print(f\"The coffee shop(s) with the least customers per day is/are: {', '.join(shop_with_min_customers)} with {min_customers_count} customers\")\n"
      ],
      "metadata": {
        "colab": {
          "base_uri": "https://localhost:8080/",
          "height": 0
        },
        "id": "LO2XUHFq4dfB",
        "outputId": "178ca011-b059-4dec-8c68-f8d032e07f2c"
      },
      "execution_count": 17,
      "outputs": [
        {
          "output_type": "stream",
          "name": "stdout",
          "text": [
            "The coffee shop(s) with the most customers per day is/are: MochaMagic, CappuccinoCorner with 500 customers\n",
            "The coffee shop(s) with the least customers per day is/are: BrewMaster with 300 customers\n"
          ]
        }
      ]
    },
    {
      "cell_type": "markdown",
      "source": [
        "## Findings for Question 1\n",
        "\n",
        "After performing the calculations, we found that:\n",
        "\n",
        "- The coffee shops with the most customers per day is MochaMagic and CappuccinoCorner. This means they have the highest footfall among all the coffee shops in our dataset, with 500 customers each. Factors contributing to this could be their location, quality of service, or price range, among other things.\n",
        "\n",
        "- The coffee shop with the least customers per day is BrewMaster, with 300 customers. This indicates that it has the lowest footfall. The reason for this could be the shop's location, pricing, or service quality, which might not be as attractive to customers as the other shops.\n",
        "\n",
        "This provides an interesting insight into customer behavior and preferences, and sets the stage for our further analysis on the daily revenue of these coffee shops."
      ],
      "metadata": {
        "id": "al5hmJxi5B8r"
      }
    },
    {
      "cell_type": "markdown",
      "source": [
        "## Let's Go Deeper: Importance of Considering the City\n",
        "\n",
        "Considering the city where coffee shops are located is vital because it reveals insights into local market dynamics, consumer behavior, operational factors, and guides strategic decision-making.\n"
      ],
      "metadata": {
        "id": "gf1RKvfJ-qFV"
      }
    },
    {
      "cell_type": "code",
      "source": [
        "# Find the coffee shop with the maximum average daily customer count\n",
        "max_customers = df.groupby('City')['Average Daily Customer Count'].idxmax()\n",
        "shop_with_max_customers = df.loc[max_customers, ['Shop Name', 'City', 'Average Daily Customer Count']]\n",
        "\n",
        "# Find the coffee shop with the minimum average daily customer count\n",
        "min_customers = df.groupby('City')['Average Daily Customer Count'].idxmin()\n",
        "shop_with_min_customers = df.loc[min_customers, ['Shop Name', 'City', 'Average Daily Customer Count']]\n",
        "\n",
        "# Print the results\n",
        "print(\"Coffee shop(s) with the most customers per day:\")\n",
        "print(shop_with_max_customers)\n",
        "\n",
        "print(\"\\nCoffee shop(s) with the least customers per day:\")\n",
        "print(shop_with_min_customers)"
      ],
      "metadata": {
        "colab": {
          "base_uri": "https://localhost:8080/",
          "height": 0
        },
        "id": "Z5YGJJKo9rov",
        "outputId": "c1cb5906-8833-418a-fd06-b11e28a8de52"
      },
      "execution_count": 21,
      "outputs": [
        {
          "output_type": "stream",
          "name": "stdout",
          "text": [
            "Coffee shop(s) with the most customers per day:\n",
            "          Shop Name         City  Average Daily Customer Count\n",
            "7  CappuccinoCorner      Chicago                           500\n",
            "5         LatteLand  Los Angeles                           375\n",
            "3        MochaMagic     New York                           500\n",
            "\n",
            "Coffee shop(s) with the least customers per day:\n",
            "     Shop Name         City  Average Daily Customer Count\n",
            "1    BeansTalk      Chicago                           350\n",
            "2   BrewMaster  Los Angeles                           300\n",
            "0  CoffeeAroma     New York                           400\n"
          ]
        }
      ]
    },
    {
      "cell_type": "markdown",
      "source": [
        "## Analysis of Customer Count: Coffee Shops with the Most and Least Customers\n",
        "\n",
        "After analyzing the data, we found the following insights regarding the coffee shops with the most and least customers per day:\n",
        "\n",
        "### Coffee shop(s) with the most customers per day:\n",
        "\n",
        "- **CappuccinoCorner** in Chicago has the highest average daily customer count of 500, indicating its popularity and ability to attract a large number of customers in the competitive Chicago market.\n",
        "\n",
        "- **LatteLand** in Los Angeles has an average daily customer count of 375, maintaining a substantial customer base in the vibrant coffee scene of Los Angeles.\n",
        "\n",
        "- **MochaMagic** in New York also boasts an average daily customer count of 500, highlighting its success in attracting a large number of customers in the bustling coffee market of New York.\n",
        "\n",
        "These findings demonstrate the strong customer engagement and popularity of these coffee shops in their respective cities.\n",
        "\n",
        "### Coffee shop(s) with the least customers per day:\n",
        "\n",
        "- **BeansTalk** in Chicago has the lowest average daily customer count of 350, indicating potential challenges in customer acquisition or retention compared to other coffee shops in Chicago.\n",
        "\n",
        "- **BrewMaster** in Los Angeles has the lowest average daily customer count of 300, indicating the need for strategies to increase footfall and attract more customers in the competitive Los Angeles market.\n",
        "\n",
        "- **CoffeeAroma** in New York has an average daily customer count of 400, highlighting opportunities to improve customer acquisition and increase footfall compared to other coffee shops in New York.\n",
        "\n",
        "These insights provide valuable information for coffee shop owners and managers to focus on enhancing customer attraction and engagement strategies in order to increase their customer base and overall success.\n",
        "\n",
        "Considering the city in the analysis of customer count helps us understand the localized market dynamics, customer preferences, and competition. This knowledge can inform strategic decision-making, such as tailoring marketing efforts, improving customer experiences, and optimizing operational strategies to maximize customer engagement and drive business growth.\n",
        "\n"
      ],
      "metadata": {
        "id": "fl3q_Xa2-UbJ"
      }
    },
    {
      "cell_type": "markdown",
      "source": [
        "# Question 2: Which coffee shop has the highest and lowest daily revenue?\n",
        "\n",
        "Next, we'll identify the coffee shops with the highest and lowest daily revenue. This involves finding the maximum and minimum values in the 'Daily Revenue ($)' column.\n"
      ],
      "metadata": {
        "id": "D1V4O-OV02mI"
      }
    },
    {
      "cell_type": "code",
      "source": [
        "# Find the maximum and minimum daily revenue\n",
        "max_revenue_value = df['Daily Revenue ($)'].max()\n",
        "min_revenue_value = df['Daily Revenue ($)'].min()\n",
        "\n",
        "# Find the coffee shop(s) with the maximum daily revenue\n",
        "shops_with_max_revenue = df[df['Daily Revenue ($)'] == max_revenue_value]['Shop Name']\n",
        "\n",
        "# Find the coffee shop(s) with the minimum daily revenue\n",
        "shops_with_min_revenue = df[df['Daily Revenue ($)'] == min_revenue_value]['Shop Name']\n",
        "\n",
        "# Print the results\n",
        "print(f'The coffee shop(s) with the highest daily revenue of ${max_revenue_value} is/are: {\", \".join(shops_with_max_revenue)}')\n",
        "print(f'The coffee shop(s) with the lowest daily revenue of ${min_revenue_value} is/are: {\", \".join(shops_with_min_revenue)}')\n"
      ],
      "metadata": {
        "colab": {
          "base_uri": "https://localhost:8080/",
          "height": 0
        },
        "id": "K5UbAfA506Mm",
        "outputId": "952717e4-9c64-4c32-90db-24632d2265ce"
      },
      "execution_count": 15,
      "outputs": [
        {
          "output_type": "stream",
          "name": "stdout",
          "text": [
            "The coffee shop(s) with the highest daily revenue of $2975 is/are: JavaJungle\n",
            "The coffee shop(s) with the lowest daily revenue of $2000 is/are: CoffeeAroma, MochaMagic, CappuccinoCorner\n"
          ]
        }
      ]
    },
    {
      "cell_type": "markdown",
      "source": [
        "## Findings for Question 2\n",
        "\n",
        "After performing the calculations, we found that:\n",
        "\n",
        "- The coffee shop with the highest daily revenue of $2975 is `JavaJungle`. Despite not having the highest footfall, it's able to generate the most revenue, possibly due to a higher average spending per customer, more expensive products, or a combination of these factors.\n",
        "\n",
        "- The coffee shops with the lowest daily revenue of $2000 are `CoffeeAroma`, `MochaMagic`, and `CappuccinoCorner`. These shops, despite their customer counts, generate the least revenue, which could be due to lower average spending per customer, cheaper products, or both.\n",
        "\n",
        "These findings show that a higher customer count doesn't necessarily equate to higher revenue. It could be more beneficial to attract customers who spend more, rather than simply aiming for a higher number of customers. Also, it's interesting to note that multiple coffee shops can have the same revenue, suggesting similar business performances or potentially similar business strategies.\n"
      ],
      "metadata": {
        "id": "KDXLdYrL0-h8"
      }
    },
    {
      "cell_type": "code",
      "source": [],
      "metadata": {
        "id": "QWws3HisRcJH"
      },
      "execution_count": null,
      "outputs": []
    },
    {
      "cell_type": "markdown",
      "source": [
        "## Let's Go Deeper: Importance of Considering the City\n",
        "\n",
        "Considering the city where coffee shops are located is vital because it reveals insights into local market dynamics, consumer behavior, operational factors, and guides strategic decision-making.**bold text**"
      ],
      "metadata": {
        "id": "-Q1GnBt6_lEl"
      }
    },
    {
      "cell_type": "code",
      "source": [
        "# Find the coffee shop with the maximum daily revenue for each city\n",
        "max_revenue = df.groupby('City')['Daily Revenue ($)'].idxmax()\n",
        "shop_with_max_revenue = df.loc[max_revenue, ['Shop Name', 'City', 'Daily Revenue ($)']]\n",
        "\n",
        "# Find the coffee shop with the minimum daily revenue for each city\n",
        "min_revenue = df.groupby('City')['Daily Revenue ($)'].idxmin()\n",
        "shop_with_min_revenue = df.loc[min_revenue, ['Shop Name', 'City', 'Daily Revenue ($)']]\n",
        "\n",
        "# Print the results\n",
        "print(\"Coffee shop(s) with the highest daily revenue:\")\n",
        "print(shop_with_max_revenue)\n",
        "\n",
        "print(\"\\nCoffee shop(s) with the lowest daily revenue:\")\n",
        "print(shop_with_min_revenue)\n"
      ],
      "metadata": {
        "colab": {
          "base_uri": "https://localhost:8080/",
          "height": 0
        },
        "id": "Ll9VHeL5_lhw",
        "outputId": "7d561d10-496c-42c2-aab3-e309b8f25009"
      },
      "execution_count": 22,
      "outputs": [
        {
          "output_type": "stream",
          "name": "stdout",
          "text": [
            "Coffee shop(s) with the highest daily revenue:\n",
            "     Shop Name         City  Daily Revenue ($)\n",
            "4  EspressoInn      Chicago               2250\n",
            "5    LatteLand  Los Angeles               2250\n",
            "6   JavaJungle     New York               2975\n",
            "\n",
            "Coffee shop(s) with the lowest daily revenue:\n",
            "          Shop Name         City  Daily Revenue ($)\n",
            "7  CappuccinoCorner      Chicago               2000\n",
            "2        BrewMaster  Los Angeles               2100\n",
            "0       CoffeeAroma     New York               2000\n"
          ]
        }
      ]
    },
    {
      "cell_type": "markdown",
      "source": [
        "## Analysis of Daily Revenue: Coffee Shops with the Highest and Lowest Daily Revenue\n",
        "\n",
        "After analyzing the data, we have obtained insights into the coffee shops with the highest and lowest daily revenue. Here's the breakdown:\n",
        "\n",
        "### Coffee shop(s) with the highest daily revenue:\n",
        "\n",
        "- **EspressoInn** in Chicago and **LatteLand** in Los Angeles both generate a daily revenue of $2250. These coffee shops excel in revenue generation, demonstrating their success in attracting customers and generating substantial daily sales.\n",
        "\n",
        "- **JavaJungle** in New York generates the highest daily revenue of $2975, surpassing the other coffee shops in the dataset. This suggests that JavaJungle is highly effective in generating revenue, potentially due to factors such as higher average spending per customer or premium-priced products.\n",
        "\n",
        "### Coffee shop(s) with the lowest daily revenue:\n",
        "\n",
        "- **CappuccinoCorner** in Chicago and **CoffeeAroma** in New York both generate a daily revenue of $2000. These coffee shops have the lowest daily revenue among the dataset, indicating potential challenges in revenue generation or opportunities for improvement.\n",
        "\n",
        "- **BrewMaster** in Los Angeles generates a daily revenue of $2100, slightly higher than the lowest performing coffee shops. However, it still faces challenges in revenue generation compared to other coffee shops in Los Angeles.\n",
        "\n",
        "By considering the city in the analysis of daily revenue, we gain insights into the revenue performance of coffee shops within specific locations. This helps identify successful revenue strategies, operational considerations, and potential areas for improvement. It highlights the importance of tailoring business strategies to the local market dynamics, customer preferences, and competition within each city.\n"
      ],
      "metadata": {
        "id": "9FutDbohAtG3"
      }
    },
    {
      "cell_type": "markdown",
      "source": [
        "# Question 3: Is there a correlation between the rating of a coffee shop and its daily revenue?\n",
        "\n",
        "To answer this question, we will investigate the relationship between the rating of a coffee shop and its daily revenue. We will calculate the correlation coefficient using the SciPy library to determine if there is a correlation and, if so, the strength and direction of the correlation.\n"
      ],
      "metadata": {
        "id": "yhvx3t0n5XuX"
      }
    },
    {
      "cell_type": "code",
      "source": [
        "# Import the necessary libraries\n",
        "from scipy.stats import pearsonr\n",
        "\n",
        "# Calculate the correlation coefficient between rating and daily revenue\n",
        "correlation, _ = pearsonr(df['Rating'], df['Daily Revenue ($)'])\n",
        "\n",
        "# Print the correlation coefficient\n",
        "print(f'The correlation coefficient between rating and daily revenue is: {correlation:.2f}')\n"
      ],
      "metadata": {
        "colab": {
          "base_uri": "https://localhost:8080/",
          "height": 0
        },
        "id": "yjdW10dv5eS8",
        "outputId": "205bda13-5a5a-45a4-afc9-104bfe5cf7d3"
      },
      "execution_count": 18,
      "outputs": [
        {
          "output_type": "stream",
          "name": "stdout",
          "text": [
            "The correlation coefficient between rating and daily revenue is: 0.62\n"
          ]
        }
      ]
    },
    {
      "cell_type": "markdown",
      "source": [
        "## Findings for Question 3\n",
        "\n",
        "After performing the analysis, we found that:\n",
        "\n",
        "- The correlation coefficient between the rating of a coffee shop and its daily revenue is 0.62. The correlation coefficient ranges from -1 to 1, where values closer to 1 indicate a strong positive correlation, values closer to -1 indicate a strong negative correlation, and values close to 0 indicate a weak or no correlation.\n",
        "\n",
        "- Based on the correlation coefficient, it appears that there is a positive correlation between the rating of a coffee shop and its daily revenue. This suggests that higher ratings tend to be associated with higher daily revenue.\n",
        "\n",
        "These findings indicate that customer ratings may have a significant influence on the daily revenue of a coffee shop. Coffee shops with higher ratings are likely to attract more customers and generate higher revenue. However, it's important to note that correlation does not imply causation, and other factors may also contribute to the revenue generation, such as location, customer preferences, marketing strategies, or pricing.\n",
        "\n",
        "Further analysis and consideration of these factors are recommended to gain a comprehensive understanding of the relationship between rating and revenue.\n"
      ],
      "metadata": {
        "id": "5gp-EOM35luN"
      }
    },
    {
      "cell_type": "markdown",
      "source": [
        "## Let's Go Deeper: Importance of Considering the City\n",
        "\n",
        "Considering the city where coffee shops are located is vital because it reveals insights into local market dynamics, consumer behavior, operational factors, and guides strategic decision-making.\n"
      ],
      "metadata": {
        "id": "s74OC9Ik8tMJ"
      }
    },
    {
      "cell_type": "code",
      "source": [
        "# Group the data by city\n",
        "grouped_df = df.groupby('City')\n",
        "\n",
        "# Iterate over each city\n",
        "for city, data in grouped_df:\n",
        "    # Calculate the correlation coefficient between rating and revenue for the current city\n",
        "    correlation, _ = pearsonr(data['Rating'], data['Daily Revenue ($)'])\n",
        "\n",
        "    # Print the results for the current city\n",
        "    print(f\"Correlation coefficient for {city}: {correlation:.2f}\")\n"
      ],
      "metadata": {
        "colab": {
          "base_uri": "https://localhost:8080/",
          "height": 0
        },
        "id": "NYlXLHCT7idG",
        "outputId": "2ea76406-233f-4928-866f-3e9a712c5561"
      },
      "execution_count": 20,
      "outputs": [
        {
          "output_type": "stream",
          "name": "stdout",
          "text": [
            "Correlation coefficient for Chicago: 0.32\n",
            "Correlation coefficient for Los Angeles: -0.80\n",
            "Correlation coefficient for New York: 0.99\n"
          ]
        }
      ]
    },
    {
      "cell_type": "markdown",
      "source": [
        "## Analysis of Correlation between Rating and Daily Revenue by City\n",
        "\n",
        "After performing separate correlation analyses for each city, the following correlation coefficients were obtained:\n",
        "\n",
        "- **Chicago**: The correlation coefficient between the rating and daily revenue in Chicago is 0.32. This indicates a positive but weak correlation between the two variables in the city. It suggests that higher ratings are somewhat associated with higher daily revenue, although the relationship may not be very strong.\n",
        "\n",
        "- **Los Angeles**: The correlation coefficient between the rating and daily revenue in Los Angeles is -0.80. This reveals a strong negative correlation between the two variables in the city. It suggests that higher ratings are associated with lower daily revenue, indicating that other factors may have a more significant impact on revenue generation in Los Angeles.\n",
        "\n",
        "- **New York**: The correlation coefficient between the rating and daily revenue in New York is 0.99. This shows a very strong positive correlation between the two variables in the city. It suggests that higher ratings are highly associated with higher daily revenue, indicating a strong relationship between customer ratings and revenue generation in New York.\n",
        "\n",
        "These findings highlight the variations in the correlation between rating and daily revenue across different cities. The correlation in Chicago is weak, while it is negative and strong in Los Angeles. On the other hand, New York exhibits a very strong positive correlation. Understanding these city-specific relationships can provide valuable insights for coffee shop owners and managers to optimize their strategies and operations based on the dynamics of each location.\n"
      ],
      "metadata": {
        "id": "dMbHeQZV89xl"
      }
    },
    {
      "cell_type": "markdown",
      "source": [
        "## Bonus Question: Analyzing the Relationship Between Average Spend and Rating by City\n",
        "\n",
        "To further explore the relationship between average spend per customer and rating, we can conduct a city-specific analysis. This bonus question aims to investigate whether the correlation between these variables varies across different cities, providing valuable insights into localized customer behaviors and preferences.\n",
        "\n",
        "### Methodology\n",
        "\n",
        "1. Subset the data by city to create separate datasets for each city: New York, Chicago, and Los Angeles.\n",
        "2. Calculate the correlation coefficient between average spend per customer and rating for each city.\n",
        "3. Interpret the correlation coefficients to understand the relationship between customer spending behavior and satisfaction within each city.\n",
        "\n",
        "### Results\n",
        "\n",
        "The correlation coefficients for average spend per customer and rating, considering the city, are as follows:\n",
        "\n",
        "- New York: 0.95\n",
        "- Chicago: 1.00\n",
        "- Los Angeles: 0.92\n",
        "\n",
        "### Interpretation\n",
        "\n",
        "The high correlation coefficients within each city indicate a strong positive relationship between customer satisfaction (rating) and spending behavior (average spend per customer) within their respective locations. This suggests that customers in each city tend to spend more at coffee shops with higher ratings.\n",
        "\n",
        "Analyzing the correlation coefficients by city provides insights into potential variations in the relationship between customer satisfaction and spending behavior across different locations. It emphasizes the importance of localized strategies and considerations in enhancing customer satisfaction and encouraging higher spending.\n",
        "\n",
        "Please note that correlation does not imply causation. While the correlation coefficients suggest a relationship between these variables, other factors may also influence customer spending behavior. Further analysis and consideration of additional variables can provide a more comprehensive understanding of the factors driving customer spending patterns in different cities.\n",
        "\n",
        "This bonus question adds an additional layer of analysis to our exploration of the dataset, shedding light on the localized dynamics of the relationship between average spend and rating.\n"
      ],
      "metadata": {
        "id": "brlIJW5UDJWR"
      }
    },
    {
      "cell_type": "code",
      "source": [
        "# Calculate the correlation coefficient between average spend per customer and rating\n",
        "correlation = df['Average Spend per Customer ($)'].corr(df['Rating'])\n",
        "\n",
        "# Print the correlation coefficient\n",
        "print(f\"The correlation coefficient between average spend per customer and rating is: {correlation:.2f}\")\n"
      ],
      "metadata": {
        "colab": {
          "base_uri": "https://localhost:8080/",
          "height": 0
        },
        "id": "3uoqYt-HCcG_",
        "outputId": "4252e71e-f10a-4259-c72e-35cb06ce9f2c"
      },
      "execution_count": 23,
      "outputs": [
        {
          "output_type": "stream",
          "name": "stdout",
          "text": [
            "The correlation coefficient between average spend per customer and rating is: 0.94\n"
          ]
        }
      ]
    },
    {
      "cell_type": "code",
      "source": [
        "# Perform correlation analysis for each city\n",
        "cities = df['City'].unique()\n",
        "\n",
        "for city in cities:\n",
        "    # Subset the data for the current city\n",
        "    city_data = df[df['City'] == city]\n",
        "\n",
        "    # Calculate the correlation coefficient\n",
        "    correlation = city_data['Average Spend per Customer ($)'].corr(city_data['Rating'])\n",
        "\n",
        "    # Print the correlation coefficient for the current city\n",
        "    print(f\"The correlation coefficient for {city}: {correlation:.2f}\")\n"
      ],
      "metadata": {
        "colab": {
          "base_uri": "https://localhost:8080/",
          "height": 0
        },
        "id": "hRrwVHn0Ckgu",
        "outputId": "a5118fbe-4cc7-468d-e923-22787b247272"
      },
      "execution_count": 24,
      "outputs": [
        {
          "output_type": "stream",
          "name": "stdout",
          "text": [
            "The correlation coefficient for New York: 0.95\n",
            "The correlation coefficient for Chicago: 1.00\n",
            "The correlation coefficient for Los Angeles: 0.92\n"
          ]
        }
      ]
    },
    {
      "cell_type": "markdown",
      "source": [
        "## Conclusions and Further Research\n",
        "\n",
        "### Key Findings\n",
        "\n",
        "1. **Average Daily Customer Count:**\n",
        "    - Overall, the coffee shops with the highest customer footfall are 'MochaMagic' and 'CappuccinoCorner', both serving 500 customers on an average day. On the contrary, 'BrewMaster' serves the least number of customers per day, with an average of 300.\n",
        "    - **City Specific Insights:**\n",
        "        - In New York, 'MochaMagic' has the highest footfall with 500 customers, while 'CoffeeAroma' has the least with 400 customers.\n",
        "        - In Chicago, 'CappuccinoCorner' enjoys the most customer footfall with 500 customers, while 'BeansTalk' serves the fewest with 350 customers.\n",
        "        - In Los Angeles, 'LatteLand' attracts the most customers with 375 customers, while 'BrewMaster' serves the least with 300 customers.\n",
        "\n",
        "2. **Daily Revenue:**\n",
        "    - Overall, 'JavaJungle' generates the highest daily revenue, earning $2975 per day despite not having the highest footfall. On the other hand, 'CoffeeAroma', 'MochaMagic', and 'CappuccinoCorner' generate the least daily revenue, each making $2000.\n",
        "    - **City Specific Insights:**\n",
        "        - In New York, 'JavaJungle' generates the highest revenue of $2975, while 'CoffeeAroma' generates the least with $2000.\n",
        "        - In Chicago, 'EspressoInn' has the highest revenue with $2250, while 'CappuccinoCorner' has the lowest with $2000.\n",
        "        - In Los Angeles, 'LatteLand' generates the most revenue with $2250, while 'BrewMaster' generates the least with $2100.\n",
        "\n",
        "3. **Correlation between Ratings and Revenue:**\n",
        "    - Overall, there's a positive correlation of 0.62 between a coffee shop's rating and its daily revenue, suggesting that higher ratings tend to be associated with higher revenue.\n",
        "    - **City Specific Insights:**\n",
        "        - In New York, there's a very strong positive correlation (0.99) between rating and revenue, suggesting that ratings might significantly influence revenue in this city.\n",
        "        - Chicago shows a weak positive correlation (0.32), while\n",
        "        - Los Angeles displays a strong negative correlation (-0.80).\n",
        "\n",
        "### Further Research\n",
        "\n",
        "The following areas could be explored for more detailed analysis:\n",
        "\n",
        "- **Geospatial Data:** Investigating geographic factors like shop location within a city could provide valuable insights. For instance, shops in business districts might generate higher revenue due to higher foot traffic.\n",
        "- **Time Series Analysis:** Examining the trends and fluctuations in customer counts and revenues over time could yield significant findings, such as identifying peak seasons or hours and understanding customer behavior over time.\n",
        "- **Customer Demographics:** Understanding the demographics of customers frequenting these coffee shops could allow for more personalized marketing strategies.\n",
        "- **Menu Analysis:** Understanding the correlation between popular items on the menu and daily revenue could help identify key products driving revenues.\n",
        "- **Effect of Online Presence:** Analyzing the impact of a shop's online presence (like social media engagement, online reviews, and website traffic) on customer count and revenue could offer an additional layer of insight.\n"
      ],
      "metadata": {
        "id": "1Zc3wWLxJTgt"
      }
    },
    {
      "cell_type": "markdown",
      "source": [
        "# Bonus: Business Recommendations\n",
        "\n",
        "**Chicago:**\n",
        "\n",
        "1. **CappuccinoCorner**: Despite having the highest footfall, it has the lowest daily revenue among coffee shops in Chicago. This suggests the need to increase the average spending per customer. Strategies could include introducing premium products, upselling, or encouraging repeat purchases within the same day.\n",
        "\n",
        "2. **EspressoInn**: With a relatively balanced customer count and daily revenue, EspressoInn might consider expanding its customer base to increase revenue. Effective marketing campaigns targeting a wider audience could be a viable strategy.\n",
        "\n",
        "**Los Angeles:**\n",
        "\n",
        "1. **LatteLand**: While it boasts substantial daily revenue, there's still room for growth in terms of customer traffic. Focused marketing efforts on customer acquisition might help increase the footfall.\n",
        "\n",
        "2. **BrewMaster**: With the lowest customer traffic and second-lowest daily revenue, a comprehensive strategy that addresses both customer acquisition and revenue per customer is crucial. This might include improving the overall customer experience to enhance ratings and encourage word-of-mouth referrals.\n",
        "\n",
        "**New York:**\n",
        "\n",
        "1. **MochaMagic**: While having high footfall, MochaMagic has the lowest daily revenue in New York, indicating that the average spending per customer is quite low. It might be beneficial to revisit the pricing strategy or consider offering higher-priced premium options.\n",
        "\n",
        "2. **JavaJungle**: As the coffee shop with the highest daily revenue, JavaJungle appears to have hit the sweet spot in terms of customer spending. To further increase profitability, JavaJungle might focus on improving customer ratings, as our data suggests a strong correlation between ratings and revenue in New York.\n",
        "\n",
        "**General Advice:**\n",
        "\n",
        "Across all cities, the data suggests a positive correlation between ratings and revenue. Therefore, efforts to improve customer satisfaction should be a high priority for all coffee shops. This might include improving product quality, enhancing customer service, and ensuring a welcoming and comfortable atmosphere. By boosting customer satisfaction, coffee shops can potentially increase their ratings, customer traffic, and revenue. Remember, these recommendations are based on the data analysis and should be supplemented with detailed market studies and other relevant business factors for a holistic business strategy.\n"
      ],
      "metadata": {
        "id": "Et_W3WYYO8w_"
      }
    }
  ]
}